{
 "cells": [
  {
   "cell_type": "markdown",
   "id": "317882e6-7320-4944-a8bf-e4748ca97988",
   "metadata": {},
   "source": [
    "# Data Science Tools and Ecosystem"
   ]
  },
  {
   "cell_type": "markdown",
   "id": "aa55a541-fe69-4e5b-a982-e7f8aac95e51",
   "metadata": {},
   "source": [
    "## In this notebook, we will have a short glimpse of Data Science Tools"
   ]
  },
  {
   "cell_type": "markdown",
   "id": "59f02187-6b82-40d1-88cb-3ffccdb9c600",
   "metadata": {},
   "source": [
    "### Data science languages are Python, R, Julia, Scala, SQL"
   ]
  },
  {
   "cell_type": "markdown",
   "id": "10d5801d-ec2d-4b6d-99f9-be9e23a9e05b",
   "metadata": {},
   "source": [
    "### Data science libraries are Numpy, Pandas, SkiPy, Matplotib, Keras, Scikit learn"
   ]
  },
  {
   "cell_type": "markdown",
   "id": "e6965856-c23b-43ee-81ac-ca2236d8d644",
   "metadata": {},
   "source": [
    "| Category | Data Science Tools |\n",
    "|----------|--------------------|\n",
    "\n",
    "|Data management | MySQL, PostgreSQL, MangoDB, CouchDB, Hadoop|\n",
    "|----------|--------------------|\n",
    "\n",
    "| Data integration and transformation | KubeFlow, Apache Kafka, SparkSQL |\n",
    "|----------|--------------------|\n",
    "\n",
    "| Data Visualization tools | Pixie Dust, Hue, Kibana |\n",
    "|----------|--------------------|\n",
    "\n",
    "| Model Deployement | Apache PredictionIO, Seldon, TensorFlow|\n",
    "|----------|--------------------|\n",
    "\n",
    "| Model Monitoring tools | ModelDB, IBM AI Fairness 360, IBM AI Explainability 360|\n",
    "|----------|--------------------|\n",
    "\n",
    "| Code Asset management | Git, GitHub, GitLab and Bitbucket|\n",
    "|----------|--------------------|"
   ]
  },
  {
   "cell_type": "markdown",
   "id": "04b69f46-5bde-4cfd-90f1-472aee78846e",
   "metadata": {},
   "source": [
    "### Below are a few examples of evaluating arithmetic expressions in Python\n",
    "3+2=5"
   ]
  },
  {
   "cell_type": "code",
   "execution_count": 1,
   "id": "2f0c5728-b378-4683-a159-32b569476947",
   "metadata": {},
   "outputs": [
    {
     "data": {
      "text/plain": [
       "17"
      ]
     },
     "execution_count": 1,
     "metadata": {},
     "output_type": "execute_result"
    }
   ],
   "source": [
    "# This a simple arithmetic expression to mutiply then add integers\n",
    "(3*4)+5"
   ]
  },
  {
   "cell_type": "code",
   "execution_count": 2,
   "id": "9417f4c8-5b6d-44c5-aeca-db37c7989fbc",
   "metadata": {},
   "outputs": [
    {
     "name": "stdout",
     "output_type": "stream",
     "text": [
      "3.3333333333333335\n"
     ]
    }
   ],
   "source": [
    "#This will convert 200 minutes to hours by diving by 60\n",
    "a=200/60\n",
    "print(a)"
   ]
  },
  {
   "cell_type": "markdown",
   "id": "60176322-837b-4a01-b0a3-797b3dce73f8",
   "metadata": {},
   "source": [
    "# *Objectives*\n",
    "#### Learn about Jupyter Notebooks \n",
    "#### Learned about Arithmetic equations and similar operations in Jupyter notebooks\n",
    "#### Learned about Different datascience tools and their application\n",
    "#### Popular languages of data science is Python, R, SQL and Scala\n"
   ]
  },
  {
   "cell_type": "markdown",
   "id": "f853c339-7385-4acb-9327-8202a61826f0",
   "metadata": {},
   "source": [
    "## Malay Tanna, Author"
   ]
  },
  {
   "cell_type": "code",
   "execution_count": null,
   "id": "6604549c-bddd-4ea3-aacf-531d0405027d",
   "metadata": {},
   "outputs": [],
   "source": []
  }
 ],
 "metadata": {
  "kernelspec": {
   "display_name": "Python",
   "language": "python",
   "name": "conda-env-python-py"
  },
  "language_info": {
   "codemirror_mode": {
    "name": "ipython",
    "version": 3
   },
   "file_extension": ".py",
   "mimetype": "text/x-python",
   "name": "python",
   "nbconvert_exporter": "python",
   "pygments_lexer": "ipython3",
   "version": "3.7.12"
  }
 },
 "nbformat": 4,
 "nbformat_minor": 5
}
